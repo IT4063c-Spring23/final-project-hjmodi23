{
 "cells": [
  {
   "attachments": {},
   "cell_type": "markdown",
   "metadata": {},
   "source": [
    "# STREAMING SERVICE COMPARISON📝\n",
    "\n",
    "![Banner](./assets/banner.jpeg)"
   ]
  },
  {
   "attachments": {},
   "cell_type": "markdown",
   "metadata": {},
   "source": [
    "**CHECKPOINT 1**\n",
    "## Topic\n",
    "*What problem are you (or your stakeholder) trying to address?*\n",
    "📝 <!-- Answer Below -->\n",
    "The problem I'm trying to address is that there is no need to have a number of streaming services that require subscriptions to watch shows/movies as it can be financially constraining to customers and businesses and it'd be more beneficial to just have it all in one spot."
   ]
  },
  {
   "attachments": {},
   "cell_type": "markdown",
   "metadata": {},
   "source": [
    "## Project Question\n",
    "*What specific question are you seeking to answer with this project?*\n",
    "*This is not the same as the questions you ask to limit the scope of the project.*\n",
    "📝 <!-- Answer Below -->\n",
    "Why so many streaming services when there can be all-in-one?"
   ]
  },
  {
   "attachments": {},
   "cell_type": "markdown",
   "metadata": {},
   "source": [
    "## What would an answer look like?\n",
    "*What is your hypothesized answer to your question?*\n",
    "📝 <!-- Answer Below -->\n",
    "Hypothetical answer would be that all the streaming services merge into one service so there can only be one subscription and that way customers can access everything in one spot."
   ]
  },
  {
   "attachments": {},
   "cell_type": "markdown",
   "metadata": {},
   "source": [
    "## Data Sources\n",
    "*What 3 data sources have you identified for this project?*\n",
    "*How are you going to relate these datasets?*\n",
    "📝 <!-- Answer Below -->\n",
    "I've identified 3 APIs using RapidAPI to provide statistics and context to the issue using various streaming related APIs."
   ]
  },
  {
   "attachments": {},
   "cell_type": "markdown",
   "metadata": {},
   "source": [
    "## Approach and Analysis\n",
    "*What is your approach to answering your project question?*\n",
    "*How will you use the identified data to answer your project question?*\n",
    "📝 <!-- Start Discussing the project here; you can add as many code cells as you need -->\n",
    "I'll be using these API endpoints to extract data relating to streaming including traffic, subscriptions, availability and more to provide statistics on how having multiple streaming services can hamper profit in a business and it's financial impact on customer due to multiple subscriptions."
   ]
  },
  {
   "cell_type": "code",
   "execution_count": null,
   "metadata": {},
   "outputs": [],
   "source": [
    "# Start your code here\n",
    "import numpy as np\n",
    "import pandas as pd\n",
    "import matplotlib.pyplot as plt\n",
    "import seaborn as sns\n",
    "import sklearn "
   ]
  },
  {
   "attachments": {},
   "cell_type": "markdown",
   "metadata": {},
   "source": [
    "**CHECKPOINT 2**\n",
    "### Exploartory Data Analysis\n",
    "I will be able to pull different insights from this dataset which will justify which streaming is worth it. There are few correlations between variables, but they should add value by themselves. The issue in my dataset is merging two different data sets and fixing nulls or errors. I did find some outliers, but I was able to fact check and fix them. I changed the missing values to '0' or 'unknown', based on the data type of the column. Luckily, there were no duplicates that came to my attention. Data types were good the way they were."
   ]
  },
  {
   "attachments": {},
   "cell_type": "markdown",
   "metadata": {},
   "source": [
    "### Data Cleaning and Transformations\n",
    "I've tried to be as thorough as possible in my code to showcase what process I went through to clean the data, process it as well as analyze it. Overall, I've spent 50% of my time scraping data and cleaning it to provide a better understanding of the data structure. The visualizations also have write-up below them to explain what insights were gained and a detailed summary in the end to help explain better."
   ]
  },
  {
   "attachments": {},
   "cell_type": "markdown",
   "metadata": {},
   "source": [
    "### Machine Learning Plan\n",
    "From a machine learning standpoint, I really wanted to wait for the clean and processed data to see what made the most sense in terms of building a model. I think a multiple linear regression model is appropriate as I'll be working with more than one variable. A potential issue that I see happening is not getting the output that I expect as my variables are a mixture of string and numerical values. "
   ]
  },
  {
   "attachments": {},
   "cell_type": "markdown",
   "metadata": {},
   "source": [
    "**CHECKPOINT 3**\n"
   ]
  },
  {
   "attachments": {},
   "cell_type": "markdown",
   "metadata": {},
   "source": [
    "## Resources and References\n",
    "*What resources and references have you used for this project?*\n",
    "📝 <!-- Answer Below -->\n",
    "url: 'https://streaming-availability.p.rapidapi.com/v2/services',\n",
    "url: 'https://netflix54.p.rapidapi.com/search',\n",
    "url: 'https://streamlinewatch-streaming-guide.p.rapidapi.com/search'\n",
    "url: 'https://www.kaggle.com/code/armintalic/quality-and-quantity-of-streaming-services-content/input'"
   ]
  },
  {
   "cell_type": "code",
   "execution_count": 3,
   "metadata": {},
   "outputs": [
    {
     "name": "stderr",
     "output_type": "stream",
     "text": [
      "[NbConvertApp] Converting notebook source.ipynb to python\n",
      "[NbConvertApp] Writing 1261 bytes to source.py\n"
     ]
    }
   ],
   "source": [
    "# ⚠️ Make sure you run this cell at the end of your notebook before every submission!\n",
    "!jupyter nbconvert --to python source.ipynb"
   ]
  }
 ],
 "metadata": {
  "kernelspec": {
   "display_name": "Final-Project-Template-unx06iZ2",
   "language": "python",
   "name": "python3"
  },
  "language_info": {
   "codemirror_mode": {
    "name": "ipython",
    "version": 3
   },
   "file_extension": ".py",
   "mimetype": "text/x-python",
   "name": "python",
   "nbconvert_exporter": "python",
   "pygments_lexer": "ipython3",
   "version": "3.11.1"
  },
  "orig_nbformat": 4,
  "vscode": {
   "interpreter": {
    "hash": "8f59090b806211711d8ea6da25ee5b1ccb272a75a21b9536283520350d8dfda7"
   }
  }
 },
 "nbformat": 4,
 "nbformat_minor": 2
}
